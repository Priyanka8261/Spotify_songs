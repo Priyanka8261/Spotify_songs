{
  "nbformat": 4,
  "nbformat_minor": 0,
  "metadata": {
    "colab": {
      "name": "Spotify_song .ipynb",
      "provenance": []
    },
    "kernelspec": {
      "name": "python3",
      "display_name": "Python 3"
    },
    "language_info": {
      "name": "python"
    }
  },
  "cells": [
    {
      "cell_type": "markdown",
      "metadata": {
        "id": "DDI-rPAuicOa"
      },
      "source": [
        "Priyanka R"
      ]
    },
    {
      "cell_type": "markdown",
      "metadata": {
        "id": "tH1idp3yirpO"
      },
      "source": [
        "To give the final prediction of whether a particular song is liked or not by the user"
      ]
    },
    {
      "cell_type": "code",
      "metadata": {
        "id": "QzvncKzOg5uK"
      },
      "source": [
        "import pandas as pd\n",
        "import numpy as np\n",
        "from sklearn import svm\n",
        "import matplotlib.pyplot as plt\n",
        "import seaborn as sns\n",
        "%matplotlib inline"
      ],
      "execution_count": 1,
      "outputs": []
    },
    {
      "cell_type": "code",
      "metadata": {
        "id": "IAPvWFBVi7J5"
      },
      "source": [
        "spotify = pd.read_csv(\"/content/dataSpotify.csv\")"
      ],
      "execution_count": 2,
      "outputs": []
    },
    {
      "cell_type": "code",
      "metadata": {
        "colab": {
          "base_uri": "https://localhost:8080/",
          "height": 223
        },
        "id": "qriBu4x342h_",
        "outputId": "6a3e4b4a-5305-485e-e3e2-3578dbaa4c96"
      },
      "source": [
        "spotify.head()"
      ],
      "execution_count": 3,
      "outputs": [
        {
          "output_type": "execute_result",
          "data": {
            "text/html": [
              "<div>\n",
              "<style scoped>\n",
              "    .dataframe tbody tr th:only-of-type {\n",
              "        vertical-align: middle;\n",
              "    }\n",
              "\n",
              "    .dataframe tbody tr th {\n",
              "        vertical-align: top;\n",
              "    }\n",
              "\n",
              "    .dataframe thead th {\n",
              "        text-align: right;\n",
              "    }\n",
              "</style>\n",
              "<table border=\"1\" class=\"dataframe\">\n",
              "  <thead>\n",
              "    <tr style=\"text-align: right;\">\n",
              "      <th></th>\n",
              "      <th>danceability</th>\n",
              "      <th>energy</th>\n",
              "      <th>key</th>\n",
              "      <th>loudness</th>\n",
              "      <th>mode</th>\n",
              "      <th>speechiness</th>\n",
              "      <th>acousticness</th>\n",
              "      <th>instrumentalness</th>\n",
              "      <th>liveness</th>\n",
              "      <th>valence</th>\n",
              "      <th>tempo</th>\n",
              "      <th>duration_ms</th>\n",
              "      <th>time_signature</th>\n",
              "      <th>liked</th>\n",
              "    </tr>\n",
              "  </thead>\n",
              "  <tbody>\n",
              "    <tr>\n",
              "      <th>0</th>\n",
              "      <td>0.803</td>\n",
              "      <td>0.6240</td>\n",
              "      <td>7</td>\n",
              "      <td>-6.764</td>\n",
              "      <td>0</td>\n",
              "      <td>0.0477</td>\n",
              "      <td>0.451</td>\n",
              "      <td>0.000734</td>\n",
              "      <td>0.1000</td>\n",
              "      <td>0.6280</td>\n",
              "      <td>95.968</td>\n",
              "      <td>304524</td>\n",
              "      <td>4</td>\n",
              "      <td>0</td>\n",
              "    </tr>\n",
              "    <tr>\n",
              "      <th>1</th>\n",
              "      <td>0.762</td>\n",
              "      <td>0.7030</td>\n",
              "      <td>10</td>\n",
              "      <td>-7.951</td>\n",
              "      <td>0</td>\n",
              "      <td>0.3060</td>\n",
              "      <td>0.206</td>\n",
              "      <td>0.000000</td>\n",
              "      <td>0.0912</td>\n",
              "      <td>0.5190</td>\n",
              "      <td>151.329</td>\n",
              "      <td>247178</td>\n",
              "      <td>4</td>\n",
              "      <td>1</td>\n",
              "    </tr>\n",
              "    <tr>\n",
              "      <th>2</th>\n",
              "      <td>0.261</td>\n",
              "      <td>0.0149</td>\n",
              "      <td>1</td>\n",
              "      <td>-27.528</td>\n",
              "      <td>1</td>\n",
              "      <td>0.0419</td>\n",
              "      <td>0.992</td>\n",
              "      <td>0.897000</td>\n",
              "      <td>0.1020</td>\n",
              "      <td>0.0382</td>\n",
              "      <td>75.296</td>\n",
              "      <td>286987</td>\n",
              "      <td>4</td>\n",
              "      <td>0</td>\n",
              "    </tr>\n",
              "    <tr>\n",
              "      <th>3</th>\n",
              "      <td>0.722</td>\n",
              "      <td>0.7360</td>\n",
              "      <td>3</td>\n",
              "      <td>-6.994</td>\n",
              "      <td>0</td>\n",
              "      <td>0.0585</td>\n",
              "      <td>0.431</td>\n",
              "      <td>0.000001</td>\n",
              "      <td>0.1230</td>\n",
              "      <td>0.5820</td>\n",
              "      <td>89.860</td>\n",
              "      <td>208920</td>\n",
              "      <td>4</td>\n",
              "      <td>1</td>\n",
              "    </tr>\n",
              "    <tr>\n",
              "      <th>4</th>\n",
              "      <td>0.787</td>\n",
              "      <td>0.5720</td>\n",
              "      <td>1</td>\n",
              "      <td>-7.516</td>\n",
              "      <td>1</td>\n",
              "      <td>0.2220</td>\n",
              "      <td>0.145</td>\n",
              "      <td>0.000000</td>\n",
              "      <td>0.0753</td>\n",
              "      <td>0.6470</td>\n",
              "      <td>155.117</td>\n",
              "      <td>179413</td>\n",
              "      <td>4</td>\n",
              "      <td>1</td>\n",
              "    </tr>\n",
              "  </tbody>\n",
              "</table>\n",
              "</div>"
            ],
            "text/plain": [
              "   danceability  energy  key  ...  duration_ms  time_signature  liked\n",
              "0         0.803  0.6240    7  ...       304524               4      0\n",
              "1         0.762  0.7030   10  ...       247178               4      1\n",
              "2         0.261  0.0149    1  ...       286987               4      0\n",
              "3         0.722  0.7360    3  ...       208920               4      1\n",
              "4         0.787  0.5720    1  ...       179413               4      1\n",
              "\n",
              "[5 rows x 14 columns]"
            ]
          },
          "metadata": {},
          "execution_count": 3
        }
      ]
    },
    {
      "cell_type": "code",
      "metadata": {
        "colab": {
          "base_uri": "https://localhost:8080/",
          "height": 223
        },
        "id": "meAreuyDcYIU",
        "outputId": "d207065f-947c-4828-cd23-6af59d5a9c0a"
      },
      "source": [
        "spotify.tail()"
      ],
      "execution_count": 4,
      "outputs": [
        {
          "output_type": "execute_result",
          "data": {
            "text/html": [
              "<div>\n",
              "<style scoped>\n",
              "    .dataframe tbody tr th:only-of-type {\n",
              "        vertical-align: middle;\n",
              "    }\n",
              "\n",
              "    .dataframe tbody tr th {\n",
              "        vertical-align: top;\n",
              "    }\n",
              "\n",
              "    .dataframe thead th {\n",
              "        text-align: right;\n",
              "    }\n",
              "</style>\n",
              "<table border=\"1\" class=\"dataframe\">\n",
              "  <thead>\n",
              "    <tr style=\"text-align: right;\">\n",
              "      <th></th>\n",
              "      <th>danceability</th>\n",
              "      <th>energy</th>\n",
              "      <th>key</th>\n",
              "      <th>loudness</th>\n",
              "      <th>mode</th>\n",
              "      <th>speechiness</th>\n",
              "      <th>acousticness</th>\n",
              "      <th>instrumentalness</th>\n",
              "      <th>liveness</th>\n",
              "      <th>valence</th>\n",
              "      <th>tempo</th>\n",
              "      <th>duration_ms</th>\n",
              "      <th>time_signature</th>\n",
              "      <th>liked</th>\n",
              "    </tr>\n",
              "  </thead>\n",
              "  <tbody>\n",
              "    <tr>\n",
              "      <th>190</th>\n",
              "      <td>0.166</td>\n",
              "      <td>0.0551</td>\n",
              "      <td>9</td>\n",
              "      <td>-19.494</td>\n",
              "      <td>0</td>\n",
              "      <td>0.0520</td>\n",
              "      <td>0.9760</td>\n",
              "      <td>0.635000</td>\n",
              "      <td>0.1190</td>\n",
              "      <td>0.143</td>\n",
              "      <td>176.616</td>\n",
              "      <td>206520</td>\n",
              "      <td>3</td>\n",
              "      <td>0</td>\n",
              "    </tr>\n",
              "    <tr>\n",
              "      <th>191</th>\n",
              "      <td>0.862</td>\n",
              "      <td>0.6240</td>\n",
              "      <td>3</td>\n",
              "      <td>-11.630</td>\n",
              "      <td>1</td>\n",
              "      <td>0.0565</td>\n",
              "      <td>0.0192</td>\n",
              "      <td>0.000153</td>\n",
              "      <td>0.0465</td>\n",
              "      <td>0.882</td>\n",
              "      <td>124.896</td>\n",
              "      <td>254240</td>\n",
              "      <td>4</td>\n",
              "      <td>0</td>\n",
              "    </tr>\n",
              "    <tr>\n",
              "      <th>192</th>\n",
              "      <td>0.499</td>\n",
              "      <td>0.3510</td>\n",
              "      <td>9</td>\n",
              "      <td>-11.509</td>\n",
              "      <td>0</td>\n",
              "      <td>0.0448</td>\n",
              "      <td>0.9510</td>\n",
              "      <td>0.000099</td>\n",
              "      <td>0.1180</td>\n",
              "      <td>0.616</td>\n",
              "      <td>90.664</td>\n",
              "      <td>235947</td>\n",
              "      <td>4</td>\n",
              "      <td>0</td>\n",
              "    </tr>\n",
              "    <tr>\n",
              "      <th>193</th>\n",
              "      <td>0.574</td>\n",
              "      <td>0.7290</td>\n",
              "      <td>10</td>\n",
              "      <td>-5.838</td>\n",
              "      <td>0</td>\n",
              "      <td>0.0965</td>\n",
              "      <td>0.0406</td>\n",
              "      <td>0.000004</td>\n",
              "      <td>0.1940</td>\n",
              "      <td>0.413</td>\n",
              "      <td>110.547</td>\n",
              "      <td>190239</td>\n",
              "      <td>5</td>\n",
              "      <td>1</td>\n",
              "    </tr>\n",
              "    <tr>\n",
              "      <th>194</th>\n",
              "      <td>0.747</td>\n",
              "      <td>0.6660</td>\n",
              "      <td>11</td>\n",
              "      <td>-7.845</td>\n",
              "      <td>1</td>\n",
              "      <td>0.1970</td>\n",
              "      <td>0.1300</td>\n",
              "      <td>0.000000</td>\n",
              "      <td>0.3600</td>\n",
              "      <td>0.531</td>\n",
              "      <td>77.507</td>\n",
              "      <td>177213</td>\n",
              "      <td>4</td>\n",
              "      <td>1</td>\n",
              "    </tr>\n",
              "  </tbody>\n",
              "</table>\n",
              "</div>"
            ],
            "text/plain": [
              "     danceability  energy  key  ...  duration_ms  time_signature  liked\n",
              "190         0.166  0.0551    9  ...       206520               3      0\n",
              "191         0.862  0.6240    3  ...       254240               4      0\n",
              "192         0.499  0.3510    9  ...       235947               4      0\n",
              "193         0.574  0.7290   10  ...       190239               5      1\n",
              "194         0.747  0.6660   11  ...       177213               4      1\n",
              "\n",
              "[5 rows x 14 columns]"
            ]
          },
          "metadata": {},
          "execution_count": 4
        }
      ]
    },
    {
      "cell_type": "code",
      "metadata": {
        "colab": {
          "base_uri": "https://localhost:8080/",
          "height": 203
        },
        "id": "I7tFzYwWcZrv",
        "outputId": "26635d89-9a23-4408-ee73-dcbd3b37b562"
      },
      "source": [
        "spotify = spotify.drop(['key','mode','valence','tempo','time_signature'],axis=1)\n",
        "spotify.head()"
      ],
      "execution_count": 5,
      "outputs": [
        {
          "output_type": "execute_result",
          "data": {
            "text/html": [
              "<div>\n",
              "<style scoped>\n",
              "    .dataframe tbody tr th:only-of-type {\n",
              "        vertical-align: middle;\n",
              "    }\n",
              "\n",
              "    .dataframe tbody tr th {\n",
              "        vertical-align: top;\n",
              "    }\n",
              "\n",
              "    .dataframe thead th {\n",
              "        text-align: right;\n",
              "    }\n",
              "</style>\n",
              "<table border=\"1\" class=\"dataframe\">\n",
              "  <thead>\n",
              "    <tr style=\"text-align: right;\">\n",
              "      <th></th>\n",
              "      <th>danceability</th>\n",
              "      <th>energy</th>\n",
              "      <th>loudness</th>\n",
              "      <th>speechiness</th>\n",
              "      <th>acousticness</th>\n",
              "      <th>instrumentalness</th>\n",
              "      <th>liveness</th>\n",
              "      <th>duration_ms</th>\n",
              "      <th>liked</th>\n",
              "    </tr>\n",
              "  </thead>\n",
              "  <tbody>\n",
              "    <tr>\n",
              "      <th>0</th>\n",
              "      <td>0.803</td>\n",
              "      <td>0.6240</td>\n",
              "      <td>-6.764</td>\n",
              "      <td>0.0477</td>\n",
              "      <td>0.451</td>\n",
              "      <td>0.000734</td>\n",
              "      <td>0.1000</td>\n",
              "      <td>304524</td>\n",
              "      <td>0</td>\n",
              "    </tr>\n",
              "    <tr>\n",
              "      <th>1</th>\n",
              "      <td>0.762</td>\n",
              "      <td>0.7030</td>\n",
              "      <td>-7.951</td>\n",
              "      <td>0.3060</td>\n",
              "      <td>0.206</td>\n",
              "      <td>0.000000</td>\n",
              "      <td>0.0912</td>\n",
              "      <td>247178</td>\n",
              "      <td>1</td>\n",
              "    </tr>\n",
              "    <tr>\n",
              "      <th>2</th>\n",
              "      <td>0.261</td>\n",
              "      <td>0.0149</td>\n",
              "      <td>-27.528</td>\n",
              "      <td>0.0419</td>\n",
              "      <td>0.992</td>\n",
              "      <td>0.897000</td>\n",
              "      <td>0.1020</td>\n",
              "      <td>286987</td>\n",
              "      <td>0</td>\n",
              "    </tr>\n",
              "    <tr>\n",
              "      <th>3</th>\n",
              "      <td>0.722</td>\n",
              "      <td>0.7360</td>\n",
              "      <td>-6.994</td>\n",
              "      <td>0.0585</td>\n",
              "      <td>0.431</td>\n",
              "      <td>0.000001</td>\n",
              "      <td>0.1230</td>\n",
              "      <td>208920</td>\n",
              "      <td>1</td>\n",
              "    </tr>\n",
              "    <tr>\n",
              "      <th>4</th>\n",
              "      <td>0.787</td>\n",
              "      <td>0.5720</td>\n",
              "      <td>-7.516</td>\n",
              "      <td>0.2220</td>\n",
              "      <td>0.145</td>\n",
              "      <td>0.000000</td>\n",
              "      <td>0.0753</td>\n",
              "      <td>179413</td>\n",
              "      <td>1</td>\n",
              "    </tr>\n",
              "  </tbody>\n",
              "</table>\n",
              "</div>"
            ],
            "text/plain": [
              "   danceability  energy  loudness  ...  liveness  duration_ms  liked\n",
              "0         0.803  0.6240    -6.764  ...    0.1000       304524      0\n",
              "1         0.762  0.7030    -7.951  ...    0.0912       247178      1\n",
              "2         0.261  0.0149   -27.528  ...    0.1020       286987      0\n",
              "3         0.722  0.7360    -6.994  ...    0.1230       208920      1\n",
              "4         0.787  0.5720    -7.516  ...    0.0753       179413      1\n",
              "\n",
              "[5 rows x 9 columns]"
            ]
          },
          "metadata": {},
          "execution_count": 5
        }
      ]
    },
    {
      "cell_type": "code",
      "metadata": {
        "colab": {
          "base_uri": "https://localhost:8080/"
        },
        "id": "_eN_G3iegjD8",
        "outputId": "f4098102-37d7-4db0-8ecb-2e5d7f491ff4"
      },
      "source": [
        "spotify.isnull().sum()"
      ],
      "execution_count": 6,
      "outputs": [
        {
          "output_type": "execute_result",
          "data": {
            "text/plain": [
              "danceability        0\n",
              "energy              0\n",
              "loudness            0\n",
              "speechiness         0\n",
              "acousticness        0\n",
              "instrumentalness    0\n",
              "liveness            0\n",
              "duration_ms         0\n",
              "liked               0\n",
              "dtype: int64"
            ]
          },
          "metadata": {},
          "execution_count": 6
        }
      ]
    },
    {
      "cell_type": "code",
      "metadata": {
        "colab": {
          "base_uri": "https://localhost:8080/",
          "height": 439
        },
        "id": "ZRufXB57dc6B",
        "outputId": "db038827-5f94-470f-9edf-b93a052dc015"
      },
      "source": [
        "sns.lmplot(\"danceability\",\"energy\", data=spotify, hue='liked',fit_reg=False,scatter_kws={\"s\":70})"
      ],
      "execution_count": null,
      "outputs": [
        {
          "output_type": "stream",
          "name": "stderr",
          "text": [
            "/usr/local/lib/python3.7/dist-packages/seaborn/_decorators.py:43: FutureWarning: Pass the following variables as keyword args: x, y. From version 0.12, the only valid positional argument will be `data`, and passing other arguments without an explicit keyword will result in an error or misinterpretation.\n",
            "  FutureWarning\n"
          ]
        },
        {
          "output_type": "execute_result",
          "data": {
            "text/plain": [
              "<seaborn.axisgrid.FacetGrid at 0x7f852e07b0d0>"
            ]
          },
          "metadata": {},
          "execution_count": 9
        },
        {
          "output_type": "display_data",
          "data": {
            "image/png": "[encoded data removed]",
            "text/plain": [
              "<Figure size 402.375x360 with 1 Axes>"
            ]
          },
          "metadata": {
            "needs_background": "light"
          }
        }
      ]
    },
    {
      "cell_type": "code",
      "metadata": {
        "colab": {
          "base_uri": "https://localhost:8080/",
          "height": 439
        },
        "id": "vX0P8IrzhLN1",
        "outputId": "7e853d55-136e-4866-e34b-5c9d9a12e56e"
      },
      "source": [
        "sns.lmplot(\"instrumentalness\",\"energy\", data=spotify, hue='liked',fit_reg=False,scatter_kws={\"s\":70})"
      ],
      "execution_count": null,
      "outputs": [
        {
          "output_type": "stream",
          "name": "stderr",
          "text": [
            "/usr/local/lib/python3.7/dist-packages/seaborn/_decorators.py:43: FutureWarning: Pass the following variables as keyword args: x, y. From version 0.12, the only valid positional argument will be `data`, and passing other arguments without an explicit keyword will result in an error or misinterpretation.\n",
            "  FutureWarning\n"
          ]
        },
        {
          "output_type": "execute_result",
          "data": {
            "text/plain": [
              "<seaborn.axisgrid.FacetGrid at 0x7f852ded1910>"
            ]
          },
          "metadata": {},
          "execution_count": 10
        },
        {
          "output_type": "display_data",
          "data": {
            "image/png": "[encoded data removed]",
            "text/plain": [
              "<Figure size 402.375x360 with 1 Axes>"
            ]
          },
          "metadata": {
            "needs_background": "light"
          }
        }
      ]
    },
    {
      "cell_type": "code",
      "metadata": {
        "colab": {
          "base_uri": "https://localhost:8080/",
          "height": 439
        },
        "id": "rjr3l35PkEam",
        "outputId": "ef400296-d7cb-4003-dfb6-9bc42346244d"
      },
      "source": [
        "sns.lmplot(\"danceability\",\"speechiness\", data=spotify, hue='liked',fit_reg=False,scatter_kws={\"s\":70})"
      ],
      "execution_count": null,
      "outputs": [
        {
          "output_type": "stream",
          "name": "stderr",
          "text": [
            "/usr/local/lib/python3.7/dist-packages/seaborn/_decorators.py:43: FutureWarning: Pass the following variables as keyword args: x, y. From version 0.12, the only valid positional argument will be `data`, and passing other arguments without an explicit keyword will result in an error or misinterpretation.\n",
            "  FutureWarning\n"
          ]
        },
        {
          "output_type": "execute_result",
          "data": {
            "text/plain": [
              "<seaborn.axisgrid.FacetGrid at 0x7f8523f26390>"
            ]
          },
          "metadata": {},
          "execution_count": 11
        },
        {
          "output_type": "display_data",
          "data": {
            "image/png": "[encoded data removed]",
            "text/plain": [
              "<Figure size 402.375x360 with 1 Axes>"
            ]
          },
          "metadata": {
            "needs_background": "light"
          }
        }
      ]
    },
    {
      "cell_type": "code",
      "metadata": {
        "colab": {
          "base_uri": "https://localhost:8080/",
          "height": 439
        },
        "id": "PedLZ8uPkJEl",
        "outputId": "2973b53c-ef91-45bd-bbec-9058a5ac6daa"
      },
      "source": [
        "sns.lmplot(\"instrumentalness\",\"danceability\", data=spotify,hue='liked', fit_reg=False,scatter_kws={\"s\":70})"
      ],
      "execution_count": 16,
      "outputs": [
        {
          "output_type": "stream",
          "name": "stderr",
          "text": [
            "/usr/local/lib/python3.7/dist-packages/seaborn/_decorators.py:43: FutureWarning: Pass the following variables as keyword args: x, y. From version 0.12, the only valid positional argument will be `data`, and passing other arguments without an explicit keyword will result in an error or misinterpretation.\n",
            "  FutureWarning\n"
          ]
        },
        {
          "output_type": "execute_result",
          "data": {
            "text/plain": [
              "<seaborn.axisgrid.FacetGrid at 0x7f8523ddbfd0>"
            ]
          },
          "metadata": {},
          "execution_count": 16
        },
        {
          "output_type": "display_data",
          "data": {
            "image/png": "[encoded data removed]",
            "text/plain": [
              "<Figure size 402.375x360 with 1 Axes>"
            ]
          },
          "metadata": {
            "needs_background": "light"
          }
        }
      ]
    },
    {
      "cell_type": "code",
      "metadata": {
        "id": "Ph5BtzQakU8G"
      },
      "source": [
        "X=spotify[['danceability',\t'energy',\t'loudness','speechiness',\t'acousticness',\t'instrumentalness',\t'liveness',\t'duration_ms']]\n",
        "Y=spotify['liked']"
      ],
      "execution_count": 11,
      "outputs": []
    },
    {
      "cell_type": "code",
      "metadata": {
        "id": "y4CPhTJNEeSz"
      },
      "source": [
        "model=svm.SVC(kernel=\"linear\")"
      ],
      "execution_count": 12,
      "outputs": []
    },
    {
      "cell_type": "code",
      "metadata": {
        "colab": {
          "base_uri": "https://localhost:8080/"
        },
        "id": "evOGpH4sEia6",
        "outputId": "67e1505e-4957-4dc8-e202-8b82bffbc9bc"
      },
      "source": [
        "model.fit(X,Y)"
      ],
      "execution_count": 13,
      "outputs": [
        {
          "output_type": "execute_result",
          "data": {
            "text/plain": [
              "SVC(C=1.0, break_ties=False, cache_size=200, class_weight=None, coef0=0.0,\n",
              "    decision_function_shape='ovr', degree=3, gamma='scale', kernel='linear',\n",
              "    max_iter=-1, probability=False, random_state=None, shrinking=True,\n",
              "    tol=0.001, verbose=False)"
            ]
          },
          "metadata": {},
          "execution_count": 13
        }
      ]
    },
    {
      "cell_type": "code",
      "metadata": {
        "id": "QMam_cOlEmR6"
      },
      "source": [
        "answer=model.predict(X)"
      ],
      "execution_count": 15,
      "outputs": []
    },
    {
      "cell_type": "code",
      "metadata": {
        "id": "I0sWCTuTFMDm"
      },
      "source": [
        "from sklearn.metrics import accuracy_score"
      ],
      "execution_count": 16,
      "outputs": []
    },
    {
      "cell_type": "code",
      "metadata": {
        "colab": {
          "base_uri": "https://localhost:8080/"
        },
        "id": "vl7Hy-lMFfZn",
        "outputId": "b1cfc906-addd-4fe3-94a3-f6f94832b4b1"
      },
      "source": [
        "accuracy_score(answer,Y)"
      ],
      "execution_count": 18,
      "outputs": [
        {
          "output_type": "execute_result",
          "data": {
            "text/plain": [
              "0.7794871794871795"
            ]
          },
          "metadata": {},
          "execution_count": 18
        }
      ]
    },
    {
      "cell_type": "code",
      "metadata": {
        "id": "L5MaXY7BFkv6"
      },
      "source": [
        ""
      ],
      "execution_count": null,
      "outputs": []
    }
  ]
}